{
 "cells": [
  {
   "cell_type": "code",
   "execution_count": 1,
   "metadata": {},
   "outputs": [],
   "source": [
    "%matplotlib inline  \n",
    "import matplotlib.pyplot as plt\n",
    "import numpy as np\n",
    "import pandas as pd\n",
    "import seaborn as sns\n",
    "import scipy\n",
    "import galsim\n",
    "from IPython.display import clear_output\n",
    "from astropy.io import fits\n",
    "from matplotlib.colors import LogNorm\n",
    "from numpy import mgrid, sum\n",
    "import scipy.linalg as alg\n",
    "import scipy.stats as stats\n",
    "from galsim.zernike import Zernike\n",
    "import matplotlib"
   ]
  },
  {
   "cell_type": "code",
   "execution_count": 36,
   "metadata": {},
   "outputs": [],
   "source": [
    "SMALL_SIZE = 8\n",
    "MEDIUM_SIZE = 10\n",
    "BIGGER_SIZE = 14\n",
    "\n",
    "plt.rc('font', size=MEDIUM_SIZE)          # controls default text sizes\n",
    "plt.rc('axes', titlesize=MEDIUM_SIZE)     # fontsize of the axes title\n",
    "plt.rc('axes', labelsize=MEDIUM_SIZE)    # fontsize of the x and y labels\n",
    "plt.rc('xtick', labelsize=MEDIUM_SIZE)    # fontsize of the tick labels\n",
    "plt.rc('ytick', labelsize=MEDIUM_SIZE)    # fontsize of the tick labels\n",
    "plt.rc('legend', fontsize=MEDIUM_SIZE)    # legend fontsize\n",
    "plt.rc('figure', titlesize=BIGGER_SIZE)  # fontsize of the figure title"
   ]
  },
  {
   "cell_type": "code",
   "execution_count": 21,
   "metadata": {},
   "outputs": [],
   "source": [
    "class shapeletXmoment:\n",
    "    \n",
    "    def __init__(self, psf,n, bmax = 10, pixel_scale = 1.0):\n",
    "        self.n = n\n",
    "        self.bmax = bmax\n",
    "        self.pixel_scale = pixel_scale\n",
    "        self.base_psf = psf\n",
    "        self.base_psf_image = psf.drawImage(scale = pixel_scale, method = 'no_pixel')\n",
    "        self.base_psf_result = galsim.hsm.FindAdaptiveMom(self.base_psf_image)\n",
    "        self.base_shapelet = galsim.Shapelet.fit(self.base_psf_result.moments_sigma, bmax, self.base_psf_image, normalization = 'sb')\n",
    "        self.base_bvec = self.base_shapelet.bvec\n",
    "        \n",
    "    def moment_measure(self, image, p, q):\n",
    "        n = p+q\n",
    "        \n",
    "        if n<2:\n",
    "            print \"Does not support moment measure less than second order.\"\n",
    "            return 0\n",
    "        elif n==2:\n",
    "            return self.get_second_moment(image,p,q)\n",
    "        else:\n",
    "            return self.higher_weighted_moment(image,p,q)\n",
    "        \n",
    "    def get_second_moment(self, image, p ,q):\n",
    "        image_results = galsim.hsm.FindAdaptiveMom(image)\n",
    "        if p==2:\n",
    "            return image_results.observed_shape.e1\n",
    "        elif q==2:\n",
    "            return image_results.observed_shape.e2\n",
    "        else:\n",
    "            return image_results.moments_sigma\n",
    "        \n",
    "    def higher_weighted_moment(self,gsimage,p,q):\n",
    "        \n",
    "        image = gsimage.array\n",
    "        \n",
    "\n",
    "        x, y = mgrid[:image.shape[0],:image.shape[1]]+1\n",
    "\n",
    "        psfresults = galsim.hsm.FindAdaptiveMom(galsim.Image(image, scale = self.pixel_scale))\n",
    "        M = np.zeros((2,2))\n",
    "        e1 = psfresults.observed_shape.e1\n",
    "        e2 = psfresults.observed_shape.e2\n",
    "        sigma4 = psfresults.moments_sigma**4\n",
    "        c = (1+e1)/(1-e1)\n",
    "        M[1][1] = np.sqrt(sigma4/(c-0.25*e2*(1+c)**2))\n",
    "        M[0][0] = c*M[1][1]\n",
    "        M[0][1] = 0.5*e2*(M[1][1]+M[0][0])\n",
    "        M[1][0] = M[0][1]\n",
    "\n",
    "        pos = np.array([x-psfresults.moments_centroid.x, y-psfresults.moments_centroid.y])\n",
    "        pos = np.swapaxes(pos,0,1)\n",
    "        pos = np.swapaxes(pos,1,2)\n",
    "\n",
    "\n",
    "        inv_M = np.linalg.inv(M)\n",
    "        sqrt_inv_M = alg.sqrtm(inv_M)\n",
    "        std_pos = np.zeros(pos.shape)\n",
    "        weight = np.zeros(pos.shape[0:2])\n",
    "        for i in range(pos.shape[0]):\n",
    "            for j in range(pos.shape[1]):\n",
    "                this_pos = pos[i][j]\n",
    "                this_standard_pos = np.matmul(sqrt_inv_M, this_pos)\n",
    "                std_pos[i][j] = this_standard_pos\n",
    "                weight[i][j] = np.exp(-0.5* this_standard_pos.dot(this_standard_pos))\n",
    "\n",
    "        std_x, std_y = std_pos[:,:,0],std_pos[:,:,1]\n",
    "\n",
    "        return sum(std_x**p*std_y**q*weight*image)/sum(image*weight)\n",
    "    \n",
    "    \n",
    "    def modify_pq(self, m, c, delta = 0.0001):\n",
    "        \n",
    "        n = self.n\n",
    "        mu = self.get_mu(n)\n",
    "        pq_list = self.get_pq_full(n)\n",
    "        shapelet_list = self.pq2shapelet(pq_list)\n",
    "\n",
    "        ori_moments = self.get_all_moments(self.base_psf_image, pq_list)\n",
    "        \n",
    "        A = np.zeros(shape =(mu, mu))\n",
    "        \n",
    "        #i is the mode index\n",
    "        #j is the moment index\n",
    "        #measure d_moment_j / d_mode_i\n",
    "        \n",
    "        for i in range(mu):\n",
    "            \n",
    "            mode_index = shapelet_list[i]\n",
    "            \n",
    "            pert_bvec = self.base_bvec.copy()\n",
    "            pert_bvec[mode_index]+=delta\n",
    "            ith_pert = galsim.Shapelet(self.base_psf_result.moments_sigma, self.bmax, pert_bvec)\n",
    "            pert_moment = self.get_all_moments(ith_pert.drawImage(scale = self.pixel_scale,method = 'no_pixel'), pq_list)\n",
    "            for j in range(mu):\n",
    "                A[i][j] = (pert_moment[j] - ori_moments[j])/delta     \n",
    "        self.A = A\n",
    "\n",
    "\n",
    "        dm = np.zeros(mu)\n",
    "        dm += m*ori_moments + c\n",
    "        ds = np.linalg.solve(A.T,dm)\n",
    "        #print ds\n",
    "        #print dm\n",
    "        \n",
    "        true_mod_bvec = self.base_bvec.copy()\n",
    "        for i in range(mu):\n",
    "            true_mod_bvec[shapelet_list[i]]+=ds[i]\n",
    "\n",
    "        \n",
    "        self.true_mod = galsim.Shapelet(self.base_psf_result.moments_sigma,  self.bmax, true_mod_bvec)\n",
    "        return self.true_mod\n",
    "            \n",
    "\n",
    "                \n",
    "    def get_all_moments(self, image, pq_list):\n",
    "        results_list = []\n",
    "        for tup in pq_list:\n",
    "            results_list.append(self.moment_measure(image, tup[0], tup[1]))\n",
    "                \n",
    "        return np.array(results_list)\n",
    "        \n",
    "        \n",
    "    def pq2mode(self,p,q):\n",
    "        \n",
    "        if p<=q:\n",
    "            return (p+q)*(p+q+1)//2 + 2*min(p,q)\n",
    "        else:\n",
    "            return (p+q)*(p+q+1)//2 + 2*min(p,q)+1\n",
    "        \n",
    "        \n",
    "        \n",
    "    def pq2shapelet(self,pq_list):\n",
    "        shapelet_index = []\n",
    "        for tup in pq_list:\n",
    "            shapelet_index.append(self.pq2mode(tup[0], tup[1]))\n",
    "        return shapelet_index\n",
    "        \n",
    "        \n",
    "        \n",
    "\n",
    "        \n",
    "        \n",
    "    def get_mu(self, n):\n",
    "        \n",
    "        mu = 0\n",
    "        for i in range(2,n+1):\n",
    "            mu+=i+1\n",
    "        return mu\n",
    "    \n",
    "    def get_pq_full(self,nmax):\n",
    "        \n",
    "        pq_list = []\n",
    "        \n",
    "        for n in range(2, nmax+1):\n",
    "            p = 0\n",
    "            q = n\n",
    "            \n",
    "            pq_list.append((p,q))\n",
    "            \n",
    "            while p<n:\n",
    "                p+=1\n",
    "                q-=1\n",
    "                pq_list.append((p,q))\n",
    "        return pq_list\n",
    "    \n",
    "    def get_pq_except(self,nmax,p,q):\n",
    "        \n",
    "        pq_full = self.get_pq_full(nmax)\n",
    "        pq_except = []\n",
    "        for tup in pq_full:\n",
    "            if tup != (p,q):\n",
    "                pq_except.append(tup)\n",
    "                \n",
    "        return pq_except\n",
    "     \n",
    "        "
   ]
  },
  {
   "cell_type": "code",
   "execution_count": 18,
   "metadata": {},
   "outputs": [],
   "source": [
    "\n",
    "class HOMExShapelet:\n",
    "    \n",
    "    def __init__(self, gal_type, gal_sigma, e1, e2, psf_type, psf_sigma,\n",
    "                gal_flux=1.e2,pixel_scale = 1.0,sersicn = -1,subtract_intersection = True,is_self_defined_PSF = False ,\n",
    "                self_defined_PSF=None, self_define_PSF_model = None, metacal_method = None, GREAT3 = False, \n",
    "                cosmic_shear = None, great3_ind = None, great3_cat = None, hsm_core = 'REGAUSS', bpd_params = None):\n",
    "        \n",
    "        #Define basic variables\n",
    "        self.pixel_scale = pixel_scale        \n",
    "        self.subtract_intersection = subtract_intersection        \n",
    "        self.is_self_defined_PSF = is_self_defined_PSF\n",
    "        self.metacal_method = metacal_method\n",
    "\n",
    "        \n",
    "        #Define galaxy\n",
    "        self.gal_type = gal_type\n",
    "        self.gal_sigma = gal_sigma\n",
    "        self.gal_flux=gal_flux\n",
    "        self.e1 = e1\n",
    "        self.e2 = e2\n",
    "        self.sersicn=sersicn\n",
    "        self.e_truth = np.array([e1,e2])\n",
    "        self.hsm_core = hsm_core\n",
    "\n",
    "\n",
    "#         if gal_type == \"gaussian\":\n",
    "#             self.gal_light = galsim.Gaussian(flux = self.gal_flux, sigma = Gaussian_sigma(self.gal_sigma,self.pixel_scale))\n",
    "#         elif gal_type == \"sersic\":\n",
    "#             self.gal_light = self.findAdaptiveSersic(gal_sigma,sersicn)\n",
    "        if gal_type == 'gaussian':\n",
    "            gaussian_profile = galsim.Gaussian(sigma = 1.0)\n",
    "            gaussian_profile = self.toSize(gaussian_profile, self.gal_sigma,weighted = True)\n",
    "            self.gal_light = gaussian_profile.withFlux(self.gal_flux)\n",
    "            self.gal_light = self.gal_light.shear(e1=e1, e2=e2)\n",
    "        elif gal_type == 'sersic':\n",
    "            sersic_profile = galsim.Sersic(sersicn, half_light_radius = 1.0)\n",
    "            sersic_profile = self.toSize(sersic_profile, self.gal_sigma,weighted = True)\n",
    "            self.gal_light = sersic_profile.withFlux(self.gal_flux)\n",
    "            self.gal_light = self.gal_light.shear(e1=e1, e2=e2)\n",
    "\n",
    "        elif gal_type == 'bpd':\n",
    "            bulge = galsim.Sersic(4, half_light_radius = self.bpd_params[0])\n",
    "            bulge = bulge.shear(e1 = bpd_params[1], e2 = bpd_params[2])\n",
    "            disk = galsim.Sersic(1, half_light_radius = self.bpd_params[3])\n",
    "            disk = disk.shear(e1 = bpd_params[4], e2 = bpd_params[5])\n",
    "            bulge_to_total = bpd_params[6]\n",
    "            self.gal_light = bulge_to_total*bulge + (1-bulge_to_total)*disk\n",
    "\n",
    "\n",
    "        \n",
    "        if not is_self_defined_PSF:\n",
    "            self.psf_type = psf_type\n",
    "            self.psf_sigma = psf_sigma\n",
    "            self.psf_model_sigma = psf_sigma\n",
    "\n",
    "          \n",
    "            if psf_type == 'gaussian':\n",
    "                self.psf_base = galsim.Gaussian(flux = 1.0, sigma = self.psf_sigma)\n",
    "                self.psf_base = self.toSize(self.psf_base, self.psf_sigma)\n",
    "            elif psf_type == 'kolmogorov':\n",
    "                self.psf_base  = galsim.Kolmogorov(flux = 1.0, half_light_radius = 0.5)\n",
    "                self.psf_base = self.toSize(self.psf_base, self.psf_sigma,weighted = True)\n",
    "            elif psf_type == 'opticalPSF':\n",
    "                self.psf_base = galsim.OpticalPSF(1.0,flux = 1.0)\n",
    "                self.psf_base = self.toSize(self.psf_base, self.psf_sigma)\n",
    "            elif psf_type == 'sersic':\n",
    "                self.psf_base = galsim.Sersic(psf_sersicn, half_light_radius = 1.0)\n",
    "                self.psf_base = self.toSize(self.psf_base, self.psf_sigma,weighted = True)\n",
    "                \n",
    "                \n",
    "        else:\n",
    "            self.psf_type = \"self_define\"\n",
    "            truth_image = self_defined_PSF\n",
    "            truth_psf = galsim.InterpolatedImage(truth_image,scale = pixel_scale)\n",
    "            truth_measure = galsim.hsm.FindAdaptiveMom(truth_image)\n",
    "            truth_sigma = truth_measure.moments_sigma\n",
    "\n",
    "            self.psf_light = truth_psf\n",
    "            \n",
    "    def setup_shapelet_psf(self, m, c, n, bmax = 10):\n",
    "        self.n = n\n",
    "        self.sxm = shapeletXmoment(self.psf_base,n)\n",
    "        self.psf_light = self.sxm.base_shapelet\n",
    "        self.psf_model_light = self.sxm.modify_pq(m, c)\n",
    "        self.dm = m*self.sxm.get_all_moments(self.sxm.base_psf_image, self.sxm.get_pq_full(n))+c\n",
    "\n",
    "            \n",
    "            \n",
    "    def get_intersection(self,metacal):\n",
    "        image_epsf = self.psf_light.drawImage(scale=self.pixel_scale)\n",
    "        final = galsim.Convolve([self.gal_light,self.psf_light])\n",
    "        image = final.drawImage(scale = self.pixel_scale)\n",
    "        if metacal == False:\n",
    "            results = galsim.hsm.EstimateShear(image,image_epsf,shear_est=self.hsm_core)\n",
    "            if self.hsm_core=='KSB':\n",
    "                obs_shape = galsim.Shear(g1 = results.corrected_g1, g2 = results.corrected_g2)\n",
    "                intersection = np.array([obs_shape.e1, obs_shape.e2]) - self.e_truth\n",
    "            else:\n",
    "                intersection = np.array([results.corrected_e1, results.corrected_e2])-self.e_truth\n",
    "            return intersection\n",
    "        else:\n",
    "            results = self.perform_metacal(image,image_epsf)\n",
    "            intersection = np.array([results['g_cal'].e1, results['g_cal'].e2**2]) - self.e_truth\n",
    "            return intersection\n",
    "\n",
    "    def get_measurement(self,metacal = False):\n",
    "        image_epsf = self.psf_model_light.drawImage(scale = self.pixel_scale)\n",
    "        final = galsim.Convolve([self.gal_light,self.psf_light])\n",
    "        image = final.drawImage(scale = self.pixel_scale)\n",
    "        \n",
    "        if metacal==False:\n",
    "            results = galsim.hsm.EstimateShear(image,image_epsf,shear_est=self.hsm_core)\n",
    "            if self.hsm_core=='KSB':\n",
    "                obs_shape = galsim.Shear(g1 = results.corrected_g1, g2 = results.corrected_g2)\n",
    "                bias = np.array([obs_shape.e1, obs_shape.e2]) - self.e_truth\n",
    "            else:\n",
    "                bias = np.array([results.corrected_e1, results.corrected_e2])-self.e_truth\n",
    "        else:\n",
    "            results = self.perform_metacal(image,image_epsf)\n",
    "            bias = np.array([results['g_cal'].e1, results['g_cal'].e2**2]) - self.e_truth\n",
    "        if self.subtract_intersection==True:\n",
    "            return bias-self.get_intersection(metacal)\n",
    "        else:\n",
    "            return bias\n",
    "        \n",
    "    def perform_metacal(self,image,image_epsf):\n",
    "        metacal = metasm.metacal_shear_measure(image,image_epsf,hsm_core = self.hsm_core)\n",
    "        metacal.measure_shear(self.metacal_method)\n",
    "        results = metacal.get_results()\n",
    "        return results\n",
    "    \n",
    "    def findAdaptiveSersic(self,sigma,n):\n",
    "        good_half_light_re = bisect(Sersic_sigma,sigma/3,sigma*5,args=(n,self.pixel_scale,sigma))\n",
    "        return galsim.Sersic(n=n,half_light_radius=good_half_light_re)\n",
    "    \n",
    "    def findAdaptiveKolmogorov(self,sigma):\n",
    "        good_half_light_re = bisect(Kolmogorov_sigma,max(self.psf_sigma/5,self.pixel_scale),self.psf_sigma*5,args = (self.pixel_scale,sigma))\n",
    "        return galsim.Kolmogorov(half_light_radius = good_half_light_re)\n",
    "    \n",
    "    def findAdaptiveOpticalPSF(self,sigma):\n",
    "        good_fwhm = bisect(OpticalPSF_sigma,max(self.psf_sigma/3,self.pixel_scale),self.psf_sigma*5,args = (self.pixel_scale,sigma))\n",
    "        return galsim.OpticalPSF(good_fwhm)\n",
    "    \n",
    "    def toSize(self, profile, sigma , weighted = True, tol = 1e-4):\n",
    "\n",
    "\n",
    "        if weighted:\n",
    "            apply_pixel =  max(self.pixel_scale, sigma/10)\n",
    "            true_sigma = galsim.hsm.FindAdaptiveMom(profile.drawImage(scale =apply_pixel,method = 'no_pixel')).moments_sigma*apply_pixel\n",
    "        else:\n",
    "            #true_sigma = profile.calculateMomentRadius(scale = self.pixel_scale, rtype='trace')\n",
    "\n",
    "            \n",
    "            image = profile.drawImage(scale = self.pixel_scale, method = 'no_pixel')\n",
    "            true_sigma = image.calculateMomentRadius()\n",
    "\n",
    "        ratio = sigma/true_sigma\n",
    "        new_profile = profile.expand(ratio)\n",
    "\n",
    "        while abs(true_sigma - sigma)>tol:\n",
    "            ratio = sigma/true_sigma\n",
    "            new_profile = new_profile.expand(ratio)\n",
    "\n",
    "            if weighted:\n",
    "                \n",
    "                apply_pixel =  max(self.pixel_scale, sigma/10)\n",
    "                true_sigma = galsim.hsm.FindAdaptiveMom(new_profile.drawImage(scale =apply_pixel,method = 'no_pixel'),hsmparams=galsim.hsm.HSMParams(max_mom2_iter = 2000)).moments_sigma*apply_pixel\n",
    "            else:\n",
    "                #true_sigma = profile.calculateMomentRadius(scale = self.pixel_scale, rtype='trace')\n",
    "                image = new_profile.drawImage(scale = self.pixel_scale, method = 'no_pixel')\n",
    "                true_sigma = image.calculateMomentRadius()\n",
    "        return new_profile\n",
    "        \n",
    "    \n",
    "    def real_gal_sigma(self):\n",
    "        image = self.gal_light.drawImage(scale = self.pixel_scale,method = 'no_pixel')\n",
    "        return galsim.hsm.FindAdaptiveMom(image).moments_sigma*self.pixel_scale\n",
    "    \n",
    "    def get_results(self,metacal = False):\n",
    "        results = dict()\n",
    "        results[\"measurement\"] = self.get_measurement(metacal = metacal)\n",
    "        results[\"dm\"] = self.dm\n",
    "        results[\"gal_type\"] = self.gal_type\n",
    "        results[\"psf_type\"] = self.psf_type\n",
    "        results[\"gal_sigma\"] = self.gal_sigma\n",
    "        results[\"psf_sigma\"] = self.psf_sigma\n",
    "        results[\"e1\"] = self.e1\n",
    "        results[\"e2\"] = self.e2\n",
    "        results[\"sersicn\"] = self.sersicn\n",
    "        \n",
    "        results[\"psf_model_sigma\"] = self.psf_model_sigma\n",
    "        \n",
    "        return results\n",
    "    \n",
    "    "
   ]
  },
  {
   "cell_type": "code",
   "execution_count": 27,
   "metadata": {},
   "outputs": [],
   "source": [
    "test1 = HOMExShapelet(\"gaussian\", 2.0, 0.2, 0.0, \"gaussian\", 1.0)"
   ]
  },
  {
   "cell_type": "code",
   "execution_count": 31,
   "metadata": {},
   "outputs": [],
   "source": [
    "m = np.zeros(12)\n",
    "c = np.zeros(12)\n",
    "c[9]+=0.01\n",
    "test1.setup_shapelet_psf(m,c,4)"
   ]
  },
  {
   "cell_type": "code",
   "execution_count": 113,
   "metadata": {},
   "outputs": [
    {
     "data": {
      "text/plain": [
       "[(0, 2),\n",
       " (1, 1),\n",
       " (2, 0),\n",
       " (0, 3),\n",
       " (1, 2),\n",
       " (2, 1),\n",
       " (3, 0),\n",
       " (0, 4),\n",
       " (1, 3),\n",
       " (2, 2),\n",
       " (3, 1),\n",
       " (4, 0)]"
      ]
     },
     "execution_count": 113,
     "metadata": {},
     "output_type": "execute_result"
    }
   ],
   "source": [
    "test1.sxm.get_pq_full(4)"
   ]
  },
  {
   "cell_type": "code",
   "execution_count": 114,
   "metadata": {},
   "outputs": [],
   "source": [
    "psf_light = test1.psf_light\n",
    "psf_model_light = test1.psf_model_light\n",
    "\n",
    "psf_result = galsim.hsm.FindAdaptiveMom(psf_light.drawImage(scale = 1.0, method = 'no_pixel'))\n",
    "model_result = galsim.hsm.FindAdaptiveMom(psf_model_light.drawImage(scale = 1.0, method = 'no_pixel'))"
   ]
  },
  {
   "cell_type": "code",
   "execution_count": 138,
   "metadata": {},
   "outputs": [
    {
     "name": "stdout",
     "output_type": "stream",
     "text": [
      "galsim.hsm.ShapeData(image_bounds=galsim.BoundsI(xmin=1, xmax=28, ymin=1, ymax=28), moments_status=0L, observed_shape=galsim.Shear(2.1385679402762212e-17j), moments_sigma=0.9999321103096008, moments_amp=0.9975751638412476, moments_centroid=galsim.PositionD(x=14.5, y=14.5), moments_rho4=1.9795691840673066, moments_n_iter=20L, correction_status=-10L)\n",
      "galsim.hsm.ShapeData(image_bounds=galsim.BoundsI(xmin=1, xmax=28, ymin=1, ymax=28), moments_status=0L, observed_shape=galsim.Shear((1.1103652996905157e-16-1.042183134447097e-17j)), moments_sigma=0.9999359250068665, moments_amp=0.9975789785385132, moments_centroid=galsim.PositionD(x=14.5, y=14.5), moments_rho4=1.9995614620880333, moments_n_iter=17L, correction_status=-10L)\n"
     ]
    }
   ],
   "source": [
    "print psf_result\n",
    "print model_result"
   ]
  },
  {
   "cell_type": "code",
   "execution_count": 116,
   "metadata": {},
   "outputs": [
    {
     "data": {
      "text/plain": [
       "{'dm': array([0.  , 0.  , 0.  , 0.  , 0.  , 0.  , 0.  , 0.  , 0.  , 0.01, 0.  ,\n",
       "        0.  ]),\n",
       " 'e1': 0.2,\n",
       " 'e2': 0.0,\n",
       " 'gal_sigma': 2.0,\n",
       " 'gal_type': 'gaussian',\n",
       " 'measurement': array([ 1.88611448e-03, -3.67800218e-09]),\n",
       " 'psf_model_sigma': 1.0,\n",
       " 'psf_sigma': 1.0,\n",
       " 'psf_type': 'gaussian',\n",
       " 'sersicn': -1}"
      ]
     },
     "execution_count": 116,
     "metadata": {},
     "output_type": "execute_result"
    }
   ],
   "source": [
    "test1.get_results()"
   ]
  },
  {
   "cell_type": "code",
   "execution_count": 117,
   "metadata": {},
   "outputs": [],
   "source": [
    "test2_init = (\"gaussian\" ,2.0    ,0.28,0.28,\"gaussian\"  ,2.0  ,{'subtract_intersection':True})\n",
    "test2_m = np.zeros(shape = (10,12))\n",
    "test2_c = np.zeros(shape = (10,12))\n",
    "for i in range(test2_c.shape[0]):\n",
    "    test2_c[i][9]+=0.001*i\n",
    "\n"
   ]
  },
  {
   "cell_type": "code",
   "execution_count": 118,
   "metadata": {},
   "outputs": [
    {
     "name": "stdout",
     "output_type": "stream",
     "text": [
      "Finished 100.0%\n"
     ]
    }
   ],
   "source": [
    "test2result = []\n",
    "for i in range(len(test2_m)):\n",
    "    test = HOMExShapelet(*test2_init[:-1],**test2_init[-1])\n",
    "    test.setup_shapelet_psf(test2_m[i],test2_c[i])\n",
    "    results = test.get_results()\n",
    "    test2result.append(results)\n",
    "    clear_output() \n",
    "    print (\"Finished \"+str(float((i+1))/len(test2_m)*100)+\"%\")"
   ]
  },
  {
   "cell_type": "code",
   "execution_count": 119,
   "metadata": {},
   "outputs": [
    {
     "data": {
      "text/plain": [
       "[<matplotlib.lines.Line2D at 0x11a1bb410>,\n",
       " <matplotlib.lines.Line2D at 0x11a142c50>]"
      ]
     },
     "execution_count": 119,
     "metadata": {},
     "output_type": "execute_result"
    },
    {
     "data": {
      "image/png": "[encoded data removed]",
      "text/plain": [
       "<Figure size 432x288 with 1 Axes>"
      ]
     },
     "metadata": {
      "needs_background": "light"
     },
     "output_type": "display_data"
    }
   ],
   "source": [
    "plt.plot([test2_c[i][9] for i in range(test2_c.shape[0])], [test2result[i][\"measurement\"] for i in range(test2_c.shape[0])] )\n",
    "plt.plot([test2_c[i][9] for i in range(test2_c.shape[0])], [test2result[i][\"measurement\"] for i in range(test2_c.shape[0])] )\n",
    "\n",
    "\n",
    "\n"
   ]
  },
  {
   "cell_type": "code",
   "execution_count": 129,
   "metadata": {},
   "outputs": [],
   "source": [
    "test3_init = [(\"gaussian\" ,5.0    ,0.28,0.28,\"gaussian\"  ,2.0+0.5*i  ,{'subtract_intersection':True}) for i in range(20)\n",
    "]\n",
    "test3_m = np.zeros(shape = (20,12))\n",
    "test3_c = np.zeros(shape = (20,12))\n",
    "for i in range(test3_c.shape[0]):\n",
    "    test3_c[i][9]+=0.02\n",
    "    test3_c[i][7]+=0.01\n",
    "    test3_c[i][11]+=0.01\n",
    "\n"
   ]
  },
  {
   "cell_type": "code",
   "execution_count": 130,
   "metadata": {},
   "outputs": [
    {
     "name": "stdout",
     "output_type": "stream",
     "text": [
      "Finished 100.0%\n"
     ]
    }
   ],
   "source": [
    "test3result = []\n",
    "for i in range(len(test3_m)):\n",
    "    test = HOMExShapelet(*test3_init[i][:-1],**test3_init[i][-1])\n",
    "    test.setup_shapelet_psf(test3_m[i],test3_c[i])\n",
    "    results = test.get_results()\n",
    "    test3result.append(results)\n",
    "    clear_output() \n",
    "    print (\"Finished \"+str(float((i+1))/len(test3_m)*100)+\"%\")"
   ]
  },
  {
   "cell_type": "code",
   "execution_count": 137,
   "metadata": {},
   "outputs": [
    {
     "data": {
      "text/plain": [
       "Text(0,0.5,'$\\\\delta e_1 /$ kurtosis bias')"
      ]
     },
     "execution_count": 137,
     "metadata": {},
     "output_type": "execute_result"
    },
    {
     "data": {
      "image/png": "[encoded data removed]",
      "text/plain": [
       "<Figure size 432x288 with 1 Axes>"
      ]
     },
     "metadata": {
      "needs_background": "light"
     },
     "output_type": "display_data"
    }
   ],
   "source": [
    "delta_kurtosis = np.sum(test3_c,axis = 1)\n",
    "plt.plot([t['gal_sigma']/t['psf_sigma'] for t in test3result],np.array([ t[\"measurement\"][0] for t in test3result])/delta_kurtosis)\n",
    "plt.xlabel(r\"$\\sigma_{galaxy}/\\sigma_{PSF}$\")\n",
    "plt.ylabel(r'$\\delta e_1 /$ kurtosis bias')"
   ]
  },
  {
   "cell_type": "code",
   "execution_count": 8,
   "metadata": {},
   "outputs": [],
   "source": [
    "def do_tests(tests,j,test_m, test_c,n):\n",
    "    testsresult=[]\n",
    "    for i in range(len(tests)):\n",
    "        test = HOMExShapelet(*tests[i][:-1],**tests[i][-1])\n",
    "        test.setup_shapelet_psf(test_m[i],test_c[i],n)\n",
    "        results = test.get_results(metacal = False)\n",
    "        testsresult.append(results)\n",
    "        #clear_output() \n",
    "        print (\"Finished \"+str(float((i+1))/len(tests)*100)+\"%\")\n",
    "    return testsresult\n",
    "    "
   ]
  },
  {
   "cell_type": "code",
   "execution_count": 39,
   "metadata": {},
   "outputs": [],
   "source": [
    "test4_init = [(\"gaussian\" ,5.0    ,0.28,0.28,\"gaussian\"  ,2.0+0.5*i  ,{'subtract_intersection':True}) for i in range(20)\n",
    "]\n",
    "test4_m = np.zeros(shape = (9,20,12))\n",
    "test4_c = np.zeros(shape = (9,20,12))\n",
    "for index in range(9):\n",
    "    for i in range(20):\n",
    "        test4_c[index][i][index+3]+=0.01\n",
    "\n"
   ]
  },
  {
   "cell_type": "code",
   "execution_count": 41,
   "metadata": {},
   "outputs": [
    {
     "name": "stdout",
     "output_type": "stream",
     "text": [
      "Start tests for moment4\n",
      "Finished 5.0%\n",
      "Finished 10.0%\n",
      "Finished 15.0%\n",
      "Finished 20.0%\n",
      "Finished 25.0%\n",
      "Finished 30.0%\n",
      "Finished 35.0%\n",
      "Finished 40.0%\n",
      "Finished 45.0%\n",
      "Finished 50.0%\n",
      "Finished 55.0%\n",
      "Finished 60.0%\n",
      "Finished 65.0%\n",
      "Finished 70.0%\n",
      "Finished 75.0%\n",
      "Finished 80.0%\n",
      "Finished 85.0%\n",
      "Finished 90.0%\n",
      "Finished 95.0%\n",
      "Finished 100.0%\n",
      "Start tests for moment5\n",
      "Finished 5.0%\n",
      "Finished 10.0%\n",
      "Finished 15.0%\n",
      "Finished 20.0%\n",
      "Finished 25.0%\n",
      "Finished 30.0%\n",
      "Finished 35.0%\n",
      "Finished 40.0%\n",
      "Finished 45.0%\n",
      "Finished 50.0%\n",
      "Finished 55.0%\n",
      "Finished 60.0%\n",
      "Finished 65.0%\n",
      "Finished 70.0%\n",
      "Finished 75.0%\n",
      "Finished 80.0%\n",
      "Finished 85.0%\n",
      "Finished 90.0%\n",
      "Finished 95.0%\n",
      "Finished 100.0%\n",
      "Start tests for moment6\n",
      "Finished 5.0%\n",
      "Finished 10.0%\n",
      "Finished 15.0%\n",
      "Finished 20.0%\n",
      "Finished 25.0%\n",
      "Finished 30.0%\n",
      "Finished 35.0%\n",
      "Finished 40.0%\n",
      "Finished 45.0%\n",
      "Finished 50.0%\n",
      "Finished 55.0%\n",
      "Finished 60.0%\n",
      "Finished 65.0%\n",
      "Finished 70.0%\n",
      "Finished 75.0%\n",
      "Finished 80.0%\n",
      "Finished 85.0%\n",
      "Finished 90.0%\n",
      "Finished 95.0%\n",
      "Finished 100.0%\n",
      "Start tests for moment7\n",
      "Finished 5.0%\n",
      "Finished 10.0%\n",
      "Finished 15.0%\n",
      "Finished 20.0%\n",
      "Finished 25.0%\n",
      "Finished 30.0%\n",
      "Finished 35.0%\n",
      "Finished 40.0%\n",
      "Finished 45.0%\n",
      "Finished 50.0%\n",
      "Finished 55.0%\n",
      "Finished 60.0%\n",
      "Finished 65.0%\n",
      "Finished 70.0%\n",
      "Finished 75.0%\n",
      "Finished 80.0%\n",
      "Finished 85.0%\n",
      "Finished 90.0%\n",
      "Finished 95.0%\n",
      "Finished 100.0%\n",
      "Start tests for moment8\n",
      "Finished 5.0%\n",
      "Finished 10.0%\n",
      "Finished 15.0%\n",
      "Finished 20.0%\n",
      "Finished 25.0%\n",
      "Finished 30.0%\n",
      "Finished 35.0%\n",
      "Finished 40.0%\n",
      "Finished 45.0%\n",
      "Finished 50.0%\n",
      "Finished 55.0%\n",
      "Finished 60.0%\n",
      "Finished 65.0%\n",
      "Finished 70.0%\n",
      "Finished 75.0%\n",
      "Finished 80.0%\n",
      "Finished 85.0%\n",
      "Finished 90.0%\n",
      "Finished 95.0%\n",
      "Finished 100.0%\n",
      "Start tests for moment9\n",
      "Finished 5.0%\n",
      "Finished 10.0%\n",
      "Finished 15.0%\n",
      "Finished 20.0%\n",
      "Finished 25.0%\n",
      "Finished 30.0%\n",
      "Finished 35.0%\n",
      "Finished 40.0%\n",
      "Finished 45.0%\n",
      "Finished 50.0%\n",
      "Finished 55.0%\n",
      "Finished 60.0%\n",
      "Finished 65.0%\n",
      "Finished 70.0%\n",
      "Finished 75.0%\n",
      "Finished 80.0%\n",
      "Finished 85.0%\n",
      "Finished 90.0%\n",
      "Finished 95.0%\n",
      "Finished 100.0%\n",
      "Start tests for moment10\n",
      "Finished 5.0%\n",
      "Finished 10.0%\n",
      "Finished 15.0%\n",
      "Finished 20.0%\n",
      "Finished 25.0%\n",
      "Finished 30.0%\n",
      "Finished 35.0%\n",
      "Finished 40.0%\n",
      "Finished 45.0%\n",
      "Finished 50.0%\n",
      "Finished 55.0%\n",
      "Finished 60.0%\n",
      "Finished 65.0%\n",
      "Finished 70.0%\n",
      "Finished 75.0%\n",
      "Finished 80.0%\n",
      "Finished 85.0%\n",
      "Finished 90.0%\n",
      "Finished 95.0%\n",
      "Finished 100.0%\n",
      "Start tests for moment11\n",
      "Finished 5.0%\n",
      "Finished 10.0%\n",
      "Finished 15.0%\n",
      "Finished 20.0%\n",
      "Finished 25.0%\n",
      "Finished 30.0%\n",
      "Finished 35.0%\n",
      "Finished 40.0%\n",
      "Finished 45.0%\n",
      "Finished 50.0%\n",
      "Finished 55.0%\n",
      "Finished 60.0%\n",
      "Finished 65.0%\n",
      "Finished 70.0%\n",
      "Finished 75.0%\n",
      "Finished 80.0%\n",
      "Finished 85.0%\n",
      "Finished 90.0%\n",
      "Finished 95.0%\n",
      "Finished 100.0%\n",
      "Start tests for moment12\n",
      "Finished 5.0%\n",
      "Finished 10.0%\n",
      "Finished 15.0%\n",
      "Finished 20.0%\n",
      "Finished 25.0%\n",
      "Finished 30.0%\n",
      "Finished 35.0%\n",
      "Finished 40.0%\n",
      "Finished 45.0%\n",
      "Finished 50.0%\n",
      "Finished 55.0%\n",
      "Finished 60.0%\n",
      "Finished 65.0%\n",
      "Finished 70.0%\n",
      "Finished 75.0%\n",
      "Finished 80.0%\n",
      "Finished 85.0%\n",
      "Finished 90.0%\n",
      "Finished 95.0%\n",
      "Finished 100.0%\n"
     ]
    }
   ],
   "source": [
    "test4result = []\n",
    "for i in range(len(test4_m)):\n",
    "    print \"Start tests for moment\"+ str(i+4)\n",
    "    test4result.append(do_tests(test4_init,i,test4_m[i],test4_c[i],4))\n",
    "    "
   ]
  },
  {
   "cell_type": "code",
   "execution_count": 158,
   "metadata": {},
   "outputs": [
    {
     "name": "stdout",
     "output_type": "stream",
     "text": [
      "20\n"
     ]
    }
   ],
   "source": [
    "print len(test4result[0])"
   ]
  },
  {
   "cell_type": "code",
   "execution_count": 43,
   "metadata": {
    "scrolled": false
   },
   "outputs": [
    {
     "data": {
      "image/png": "[encoded data removed]",
      "text/plain": [
       "<Figure size 1080x432 with 9 Axes>"
      ]
     },
     "metadata": {
      "needs_background": "light"
     },
     "output_type": "display_data"
    }
   ],
   "source": [
    "pqlist = test1.sxm.get_pq_full(4)[3:]\n",
    "fig = plt.figure(figsize = (15,6))\n",
    "fig.subplots_adjust(left=None, bottom=None, right=None, top=None, wspace=0.7, hspace=0.7)\n",
    "for j in range(9):\n",
    "    p,q = pqlist[j][0],pqlist[j][1]\n",
    "    n = p+q\n",
    "    ax = plt.subplot(2,5,1+5*(n-3)+p)\n",
    "    plt.plot([t['gal_sigma']/t['psf_sigma'] for t in test4result[j]],np.array([t[\"measurement\"][0]/t['e1']/0.01 for t in test4result[j]]),label='e1')\n",
    "    plt.plot([t['gal_sigma']/t['psf_sigma'] for t in test4result[j]],np.array([t[\"measurement\"][1]/t['e2']/0.01 for t in test4result[j]]),label='e2')\n",
    "    \n",
    "    #print test4_gaussian_results[j][0]['psf_bvec'][:15]/test4_gaussian_results[j][0]['psf_bvec'][0]\n",
    "    \n",
    "    plt.xlabel(r\"$\\sigma_{galaxy}/\\sigma_{PSF}$\")\n",
    "    plt.ylabel(r'$\\frac{\\delta e_i}{e_i} / \\delta m_{p,q}$')\n",
    "    \n",
    "    plt.title(str((p,q)))\n",
    "    #plt.show()\n",
    "    plt.legend()\n",
    "    \n",
    "#fig.colorbar(axes)"
   ]
  },
  {
   "cell_type": "code",
   "execution_count": 2,
   "metadata": {},
   "outputs": [
    {
     "ename": "NameError",
     "evalue": "name 'pqlist' is not defined",
     "output_type": "error",
     "traceback": [
      "\u001b[0;31m---------------------------------------------------------------------------\u001b[0m",
      "\u001b[0;31mNameError\u001b[0m                                 Traceback (most recent call last)",
      "\u001b[0;32m<ipython-input-2-525f2754b982>\u001b[0m in \u001b[0;36m<module>\u001b[0;34m()\u001b[0m\n\u001b[0;32m----> 1\u001b[0;31m \u001b[0mpqlist\u001b[0m\u001b[0;34m\u001b[0m\u001b[0m\n\u001b[0m",
      "\u001b[0;31mNameError\u001b[0m: name 'pqlist' is not defined"
     ]
    }
   ],
   "source": [
    "pqlist"
   ]
  },
  {
   "cell_type": "code",
   "execution_count": 165,
   "metadata": {},
   "outputs": [],
   "source": [
    "test5_init = [(\"gaussian\" ,5.0    ,0.28,0.28,\"gaussian\"  ,2.0+0.5*i  ,{'subtract_intersection':True}) for i in range(20)\n",
    "]\n",
    "test5_m = np.zeros(shape = (20,12))\n",
    "test5_c = np.zeros(shape = (20,12))\n",
    "for i in range(test5_c.shape[0]):\n",
    "    test5_c[i][6]+=0.01\n",
    "    test5_c[i][4]+=0.01\n",
    "\n"
   ]
  },
  {
   "cell_type": "code",
   "execution_count": 166,
   "metadata": {},
   "outputs": [
    {
     "name": "stdout",
     "output_type": "stream",
     "text": [
      "Finished 100.0%\n"
     ]
    }
   ],
   "source": [
    "test5result = []\n",
    "for i in range(len(test5_m)):\n",
    "    test = HOMExShapelet(*test5_init[i][:-1],**test5_init[i][-1])\n",
    "    test.setup_shapelet_psf(test5_m[i],test5_c[i])\n",
    "    results = test.get_results()\n",
    "    test5result.append(results)\n",
    "    clear_output() \n",
    "    print (\"Finished \"+str(float((i+1))/len(test5_m)*100)+\"%\")"
   ]
  },
  {
   "cell_type": "code",
   "execution_count": 196,
   "metadata": {},
   "outputs": [
    {
     "data": {
      "text/plain": [
       "<matplotlib.legend.Legend at 0x11cad1a10>"
      ]
     },
     "execution_count": 196,
     "metadata": {},
     "output_type": "execute_result"
    },
    {
     "data": {
      "image/png": "[encoded data removed]",
      "text/plain": [
       "<Figure size 576x432 with 1 Axes>"
      ]
     },
     "metadata": {
      "needs_background": "light"
     },
     "output_type": "display_data"
    }
   ],
   "source": [
    "plt.figure(figsize = (8,6))\n",
    "delta_kurtosis = np.sum(test5_c,axis = 1)\n",
    "plt.plot([t['gal_sigma']/t['psf_sigma'] for t in test5result],np.array([ t[\"measurement\"][0]/t['e1']/0.02 for t in test5result]),label = 'e1')\n",
    "plt.plot([t['gal_sigma']/t['psf_sigma'] for t in test5result],np.array([ t[\"measurement\"][1]/t['e1']/0.02 for t in test5result]),label = 'e2')\n",
    "\n",
    "plt.xlabel(r\"$\\sigma_{galaxy}/\\sigma_{PSF}$\")\n",
    "plt.ylabel(r'$\\frac{\\delta e}{e} / \\delta_{coma1}$')\n",
    "\n",
    "plt.title('Gaussian galaxy & Gaussian PSF')\n",
    "plt.legend()"
   ]
  },
  {
   "cell_type": "code",
   "execution_count": 168,
   "metadata": {},
   "outputs": [],
   "source": [
    "test6_init = [(\"gaussian\" ,5.0    ,0.28,0.28,\"gaussian\"  ,2.0+0.5*i  ,{'subtract_intersection':True}) for i in range(20)\n",
    "]\n",
    "test6_m = np.zeros(shape = (20,12))\n",
    "test6_c = np.zeros(shape = (20,12))\n",
    "for i in range(test6_c.shape[0]):\n",
    "    test6_c[i][3]+=0.01\n",
    "    test6_c[i][5]+=0.01\n",
    "\n"
   ]
  },
  {
   "cell_type": "code",
   "execution_count": 169,
   "metadata": {},
   "outputs": [
    {
     "name": "stdout",
     "output_type": "stream",
     "text": [
      "Finished 100.0%\n"
     ]
    }
   ],
   "source": [
    "test6result = []\n",
    "for i in range(len(test6_m)):\n",
    "    test = HOMExShapelet(*test6_init[i][:-1],**test6_init[i][-1])\n",
    "    test.setup_shapelet_psf(test6_m[i],test6_c[i])\n",
    "    results = test.get_results()\n",
    "    test6result.append(results)\n",
    "    clear_output()\n",
    "    print (\"Finished \"+str(float((i+1))/len(test6_m)*100)+\"%\")"
   ]
  },
  {
   "cell_type": "code",
   "execution_count": 197,
   "metadata": {},
   "outputs": [
    {
     "data": {
      "text/plain": [
       "<matplotlib.legend.Legend at 0x11cb4ead0>"
      ]
     },
     "execution_count": 197,
     "metadata": {},
     "output_type": "execute_result"
    },
    {
     "data": {
      "image/png": "[encoded data removed]",
      "text/plain": [
       "<Figure size 576x432 with 1 Axes>"
      ]
     },
     "metadata": {
      "needs_background": "light"
     },
     "output_type": "display_data"
    }
   ],
   "source": [
    "plt.figure(figsize = (8,6))\n",
    "\n",
    "delta_kurtosis = np.sum(test6_c,axis = 1)\n",
    "plt.plot([t['gal_sigma']/t['psf_sigma'] for t in test6result],np.array([ t[\"measurement\"][0]/t['e1']/0.02 for t in test6result]),label = 'e1')\n",
    "plt.plot([t['gal_sigma']/t['psf_sigma'] for t in test6result],np.array([ t[\"measurement\"][1]/t['e2']/0.02 for t in test6result]),label = 'e2')\n",
    "\n",
    "plt.xlabel(r\"$\\sigma_{galaxy}/\\sigma_{PSF}$\")\n",
    "plt.ylabel(r'$\\frac{\\delta e}{e} / \\delta_{coma2}$')\n",
    "\n",
    "plt.title('Gaussian galaxy & Gaussian PSF')\n",
    "\n",
    "plt.legend()"
   ]
  },
  {
   "cell_type": "code",
   "execution_count": 202,
   "metadata": {},
   "outputs": [],
   "source": [
    "test7_init = [(\"gaussian\" ,5.0    ,0.28,0.28,\"gaussian\"  ,2.0+0.5*i  ,{'subtract_intersection':True}) for i in range(20)\n",
    "]\n",
    "test7_m = np.zeros(shape = (20,12))\n",
    "test7_c = np.zeros(shape = (20,12))\n",
    "for i in range(test7_c.shape[0]):\n",
    "    test7_c[i][6]+=0.01\n",
    "    test7_c[i][4]-=0.03\n",
    "\n"
   ]
  },
  {
   "cell_type": "code",
   "execution_count": 204,
   "metadata": {},
   "outputs": [
    {
     "name": "stdout",
     "output_type": "stream",
     "text": [
      "Finished 100.0%\n"
     ]
    }
   ],
   "source": [
    "test7result = []\n",
    "for i in range(len(test7_m)):\n",
    "    test = HOMExShapelet(*test7_init[i][:-1],**test7_init[i][-1])\n",
    "    test.setup_shapelet_psf(test7_m[i],test7_c[i])\n",
    "    results = test.get_results()\n",
    "    test7result.append(results)\n",
    "    clear_output() \n",
    "    print (\"Finished \"+str(float((i+1))/len(test7_m)*100)+\"%\")"
   ]
  },
  {
   "cell_type": "code",
   "execution_count": 208,
   "metadata": {},
   "outputs": [
    {
     "data": {
      "text/plain": [
       "<matplotlib.legend.Legend at 0x11ad80810>"
      ]
     },
     "execution_count": 208,
     "metadata": {},
     "output_type": "execute_result"
    },
    {
     "data": {
      "image/png": "[encoded data removed]",
      "text/plain": [
       "<Figure size 576x432 with 1 Axes>"
      ]
     },
     "metadata": {
      "needs_background": "light"
     },
     "output_type": "display_data"
    }
   ],
   "source": [
    "plt.figure(figsize = (8,6))\n",
    "\n",
    "plt.plot([t['gal_sigma']/t['psf_sigma'] for t in test7result],np.array([ t[\"measurement\"][0]/t['e1']/0.02 for t in test7result]),label = 'e1')\n",
    "plt.plot([t['gal_sigma']/t['psf_sigma'] for t in test7result],np.array([ t[\"measurement\"][1]/t['e2']/0.02 for t in test7result]),label = 'e2')\n",
    "\n",
    "plt.xlabel(r\"$\\sigma_{galaxy}/\\sigma_{PSF}$\")\n",
    "plt.ylabel(r'$\\frac{\\delta e}{e} / \\delta_{trefoil1}$')\n",
    "\n",
    "plt.title('Gaussian galaxy & Gaussian PSF')\n",
    "\n",
    "plt.legend()"
   ]
  },
  {
   "cell_type": "code",
   "execution_count": 205,
   "metadata": {},
   "outputs": [],
   "source": [
    "test8_init = [(\"gaussian\" ,5.0    ,0.28,0.28,\"gaussian\"  ,2.0+0.5*i  ,{'subtract_intersection':True}) for i in range(20)\n",
    "]\n",
    "test8_m = np.zeros(shape = (20,12))\n",
    "test8_c = np.zeros(shape = (20,12))\n",
    "for i in range(test8_c.shape[0]):\n",
    "    test8_c[i][3]+=0.03\n",
    "    test8_c[i][5]-=0.01\n",
    "\n"
   ]
  },
  {
   "cell_type": "code",
   "execution_count": 206,
   "metadata": {},
   "outputs": [
    {
     "name": "stdout",
     "output_type": "stream",
     "text": [
      "Finished 100.0%\n"
     ]
    }
   ],
   "source": [
    "test8result = []\n",
    "for i in range(len(test8_m)):\n",
    "    test = HOMExShapelet(*test8_init[i][:-1],**test8_init[i][-1])\n",
    "    test.setup_shapelet_psf(test8_m[i],test8_c[i])\n",
    "    results = test.get_results()\n",
    "    test8result.append(results)\n",
    "    clear_output() \n",
    "    print (\"Finished \"+str(float((i+1))/len(test8_m)*100)+\"%\")"
   ]
  },
  {
   "cell_type": "code",
   "execution_count": 207,
   "metadata": {},
   "outputs": [
    {
     "data": {
      "text/plain": [
       "<matplotlib.legend.Legend at 0x11d4b0cd0>"
      ]
     },
     "execution_count": 207,
     "metadata": {},
     "output_type": "execute_result"
    },
    {
     "data": {
      "image/png": "[encoded data removed]",
      "text/plain": [
       "<Figure size 576x432 with 1 Axes>"
      ]
     },
     "metadata": {
      "needs_background": "light"
     },
     "output_type": "display_data"
    }
   ],
   "source": [
    "plt.figure(figsize = (8,6))\n",
    "\n",
    "plt.plot([t['gal_sigma']/t['psf_sigma'] for t in test8result],np.array([ t[\"measurement\"][0]/t['e1']/0.02 for t in test8result]),label = 'e1')\n",
    "plt.plot([t['gal_sigma']/t['psf_sigma'] for t in test8result],np.array([ t[\"measurement\"][1]/t['e2']/0.02 for t in test8result]),label = 'e2')\n",
    "\n",
    "plt.xlabel(r\"$\\sigma_{galaxy}/\\sigma_{PSF}$\")\n",
    "plt.ylabel(r'$\\frac{\\delta e}{e} / \\delta_{trefoil2}$')\n",
    "\n",
    "plt.title('Gaussian galaxy & Gaussian PSF')\n",
    "\n",
    "plt.legend()"
   ]
  },
  {
   "cell_type": "code",
   "execution_count": 24,
   "metadata": {},
   "outputs": [],
   "source": [
    "test9_init = [(\"gaussian\" ,5.0    ,0.28,0.28,\"gaussian\"  ,2.0+0.5*i  ,{'subtract_intersection':True}) for i in range(20)\n",
    "]\n",
    "test9_m = np.zeros(shape = (13,20,25))\n",
    "test9_c = np.zeros(shape = (13,20,25))\n",
    "for index in range(13):\n",
    "    for i in range(20):\n",
    "        test9_c[index][i][index+12]+=0.01\n",
    "\n"
   ]
  },
  {
   "cell_type": "code",
   "execution_count": 25,
   "metadata": {},
   "outputs": [
    {
     "name": "stdout",
     "output_type": "stream",
     "text": [
      "Start tests for moment13\n",
      "Finished 5.0%\n",
      "Finished 10.0%\n",
      "Finished 15.0%\n",
      "Finished 20.0%\n",
      "Finished 25.0%\n",
      "Finished 30.0%\n",
      "Finished 35.0%\n",
      "Finished 40.0%\n",
      "Finished 45.0%\n",
      "Finished 50.0%\n",
      "Finished 55.0%\n",
      "Finished 60.0%\n",
      "Finished 65.0%\n",
      "Finished 70.0%\n",
      "Finished 75.0%\n",
      "Finished 80.0%\n",
      "Finished 85.0%\n",
      "Finished 90.0%\n",
      "Finished 95.0%\n",
      "Finished 100.0%\n",
      "Start tests for moment14\n",
      "Finished 5.0%\n",
      "Finished 10.0%\n",
      "Finished 15.0%\n",
      "Finished 20.0%\n",
      "Finished 25.0%\n",
      "Finished 30.0%\n",
      "Finished 35.0%\n",
      "Finished 40.0%\n",
      "Finished 45.0%\n",
      "Finished 50.0%\n",
      "Finished 55.0%\n",
      "Finished 60.0%\n",
      "Finished 65.0%\n",
      "Finished 70.0%\n",
      "Finished 75.0%\n",
      "Finished 80.0%\n",
      "Finished 85.0%\n",
      "Finished 90.0%\n",
      "Finished 95.0%\n",
      "Finished 100.0%\n",
      "Start tests for moment15\n",
      "Finished 5.0%\n",
      "Finished 10.0%\n",
      "Finished 15.0%\n",
      "Finished 20.0%\n",
      "Finished 25.0%\n",
      "Finished 30.0%\n",
      "Finished 35.0%\n",
      "Finished 40.0%\n",
      "Finished 45.0%\n",
      "Finished 50.0%\n",
      "Finished 55.0%\n",
      "Finished 60.0%\n",
      "Finished 65.0%\n",
      "Finished 70.0%\n",
      "Finished 75.0%\n",
      "Finished 80.0%\n",
      "Finished 85.0%\n",
      "Finished 90.0%\n",
      "Finished 95.0%\n",
      "Finished 100.0%\n",
      "Start tests for moment16\n",
      "Finished 5.0%\n",
      "Finished 10.0%\n",
      "Finished 15.0%\n",
      "Finished 20.0%\n",
      "Finished 25.0%\n",
      "Finished 30.0%\n",
      "Finished 35.0%\n",
      "Finished 40.0%\n",
      "Finished 45.0%\n",
      "Finished 50.0%\n",
      "Finished 55.0%\n",
      "Finished 60.0%\n",
      "Finished 65.0%\n",
      "Finished 70.0%\n",
      "Finished 75.0%\n",
      "Finished 80.0%\n",
      "Finished 85.0%\n",
      "Finished 90.0%\n",
      "Finished 95.0%\n",
      "Finished 100.0%\n",
      "Start tests for moment17\n",
      "Finished 5.0%\n",
      "Finished 10.0%\n",
      "Finished 15.0%\n",
      "Finished 20.0%\n",
      "Finished 25.0%\n",
      "Finished 30.0%\n",
      "Finished 35.0%\n",
      "Finished 40.0%\n",
      "Finished 45.0%\n",
      "Finished 50.0%\n",
      "Finished 55.0%\n",
      "Finished 60.0%\n",
      "Finished 65.0%\n",
      "Finished 70.0%\n",
      "Finished 75.0%\n",
      "Finished 80.0%\n",
      "Finished 85.0%\n",
      "Finished 90.0%\n",
      "Finished 95.0%\n",
      "Finished 100.0%\n",
      "Start tests for moment18\n",
      "Finished 5.0%\n",
      "Finished 10.0%\n",
      "Finished 15.0%\n",
      "Finished 20.0%\n",
      "Finished 25.0%\n",
      "Finished 30.0%\n",
      "Finished 35.0%\n",
      "Finished 40.0%\n",
      "Finished 45.0%\n",
      "Finished 50.0%\n",
      "Finished 55.0%\n",
      "Finished 60.0%\n",
      "Finished 65.0%\n",
      "Finished 70.0%\n",
      "Finished 75.0%\n",
      "Finished 80.0%\n",
      "Finished 85.0%\n",
      "Finished 90.0%\n",
      "Finished 95.0%\n",
      "Finished 100.0%\n",
      "Start tests for moment19\n",
      "Finished 5.0%\n",
      "Finished 10.0%\n",
      "Finished 15.0%\n",
      "Finished 20.0%\n",
      "Finished 25.0%\n",
      "Finished 30.0%\n",
      "Finished 35.0%\n",
      "Finished 40.0%\n",
      "Finished 45.0%\n",
      "Finished 50.0%\n",
      "Finished 55.0%\n",
      "Finished 60.0%\n",
      "Finished 65.0%\n",
      "Finished 70.0%\n",
      "Finished 75.0%\n",
      "Finished 80.0%\n",
      "Finished 85.0%\n",
      "Finished 90.0%\n",
      "Finished 95.0%\n",
      "Finished 100.0%\n",
      "Start tests for moment20\n",
      "Finished 5.0%\n",
      "Finished 10.0%\n",
      "Finished 15.0%\n",
      "Finished 20.0%\n",
      "Finished 25.0%\n",
      "Finished 30.0%\n",
      "Finished 35.0%\n",
      "Finished 40.0%\n",
      "Finished 45.0%\n",
      "Finished 50.0%\n",
      "Finished 55.0%\n",
      "Finished 60.0%\n",
      "Finished 65.0%\n",
      "Finished 70.0%\n",
      "Finished 75.0%\n",
      "Finished 80.0%\n",
      "Finished 85.0%\n",
      "Finished 90.0%\n",
      "Finished 95.0%\n",
      "Finished 100.0%\n",
      "Start tests for moment21\n",
      "Finished 5.0%\n",
      "Finished 10.0%\n",
      "Finished 15.0%\n",
      "Finished 20.0%\n",
      "Finished 25.0%\n",
      "Finished 30.0%\n",
      "Finished 35.0%\n",
      "Finished 40.0%\n",
      "Finished 45.0%\n",
      "Finished 50.0%\n",
      "Finished 55.0%\n",
      "Finished 60.0%\n",
      "Finished 65.0%\n",
      "Finished 70.0%\n",
      "Finished 75.0%\n",
      "Finished 80.0%\n",
      "Finished 85.0%\n",
      "Finished 90.0%\n",
      "Finished 95.0%\n",
      "Finished 100.0%\n",
      "Start tests for moment22\n",
      "Finished 5.0%\n",
      "Finished 10.0%\n",
      "Finished 15.0%\n",
      "Finished 20.0%\n",
      "Finished 25.0%\n",
      "Finished 30.0%\n",
      "Finished 35.0%\n",
      "Finished 40.0%\n",
      "Finished 45.0%\n",
      "Finished 50.0%\n",
      "Finished 55.0%\n",
      "Finished 60.0%\n",
      "Finished 65.0%\n",
      "Finished 70.0%\n",
      "Finished 75.0%\n",
      "Finished 80.0%\n",
      "Finished 85.0%\n",
      "Finished 90.0%\n",
      "Finished 95.0%\n",
      "Finished 100.0%\n",
      "Start tests for moment23\n",
      "Finished 5.0%\n",
      "Finished 10.0%\n",
      "Finished 15.0%\n",
      "Finished 20.0%\n",
      "Finished 25.0%\n",
      "Finished 30.0%\n",
      "Finished 35.0%\n",
      "Finished 40.0%\n",
      "Finished 45.0%\n",
      "Finished 50.0%\n",
      "Finished 55.0%\n",
      "Finished 60.0%\n",
      "Finished 65.0%\n",
      "Finished 70.0%\n",
      "Finished 75.0%\n",
      "Finished 80.0%\n",
      "Finished 85.0%\n",
      "Finished 90.0%\n",
      "Finished 95.0%\n",
      "Finished 100.0%\n",
      "Start tests for moment24\n",
      "Finished 5.0%\n",
      "Finished 10.0%\n",
      "Finished 15.0%\n",
      "Finished 20.0%\n",
      "Finished 25.0%\n",
      "Finished 30.0%\n",
      "Finished 35.0%\n",
      "Finished 40.0%\n",
      "Finished 45.0%\n",
      "Finished 50.0%\n",
      "Finished 55.0%\n",
      "Finished 60.0%\n",
      "Finished 65.0%\n",
      "Finished 70.0%\n",
      "Finished 75.0%\n",
      "Finished 80.0%\n",
      "Finished 85.0%\n",
      "Finished 90.0%\n",
      "Finished 95.0%\n",
      "Finished 100.0%\n",
      "Start tests for moment25\n",
      "Finished 5.0%\n",
      "Finished 10.0%\n",
      "Finished 15.0%\n",
      "Finished 20.0%\n",
      "Finished 25.0%\n",
      "Finished 30.0%\n",
      "Finished 35.0%\n",
      "Finished 40.0%\n",
      "Finished 45.0%\n",
      "Finished 50.0%\n",
      "Finished 55.0%\n",
      "Finished 60.0%\n",
      "Finished 65.0%\n",
      "Finished 70.0%\n",
      "Finished 75.0%\n",
      "Finished 80.0%\n",
      "Finished 85.0%\n",
      "Finished 90.0%\n",
      "Finished 95.0%\n",
      "Finished 100.0%\n"
     ]
    }
   ],
   "source": [
    "test9result = []\n",
    "for i in range(len(test9_m)):\n",
    "    print \"Start tests for moment\"+ str(i+13)\n",
    "    test9result.append(do_tests(test9_init,i,test9_m[i],test9_c[i],6))\n",
    "    "
   ]
  },
  {
   "cell_type": "code",
   "execution_count": 38,
   "metadata": {},
   "outputs": [
    {
     "name": "stdout",
     "output_type": "stream",
     "text": [
      "0 5\n",
      "1 4\n",
      "2 3\n",
      "3 2\n",
      "4 1\n",
      "5 0\n",
      "0 6\n",
      "1 5\n",
      "2 4\n",
      "3 3\n",
      "4 2\n",
      "5 1\n",
      "6 0\n"
     ]
    },
    {
     "data": {
      "image/png": "[encoded data removed]",
      "text/plain": [
       "<Figure size 1008x288 with 13 Axes>"
      ]
     },
     "metadata": {
      "needs_background": "light"
     },
     "output_type": "display_data"
    }
   ],
   "source": [
    "pqlist = test1.sxm.get_pq_full(6)[12:]\n",
    "fig = plt.figure(figsize = (14,4))\n",
    "fig.subplots_adjust(left=None, bottom=None, right=None, top=None, wspace=1.0, hspace=1.0)\n",
    "for j in range(13):\n",
    "    p,q = pqlist[j][0],pqlist[j][1]\n",
    "    n = p+q\n",
    "    print p,q\n",
    "    ax = plt.subplot(2,7,1+7*(n-5)+p)\n",
    "    plt.plot([t['gal_sigma']/t['psf_sigma'] for t in test9result[j]],np.array([t[\"measurement\"][0]/t['e1']/0.01 for t in test9result[j]]),label='e1')\n",
    "    plt.plot([t['gal_sigma']/t['psf_sigma'] for t in test9result[j]],np.array([t[\"measurement\"][1]/t['e2']/0.01 for t in test9result[j]]),label='e2')\n",
    "    \n",
    "    #print test4_gaussian_results[j][0]['psf_bvec'][:15]/test4_gaussian_results[j][0]['psf_bvec'][0]\n",
    "    \n",
    "    plt.xlabel(r\"$\\sigma_{galaxy}/\\sigma_{PSF}$\")\n",
    "    plt.ylabel(r'$\\frac{\\delta e_i}{e_i} / \\delta(m_{p,q})$')\n",
    "    \n",
    "    plt.title(str((p,q)))\n",
    "    #plt.show()\n",
    "    #plt.legend()\n",
    "    \n",
    "#fig.colorbar(axes)"
   ]
  },
  {
   "cell_type": "code",
   "execution_count": null,
   "metadata": {},
   "outputs": [],
   "source": []
  }
 ],
 "metadata": {
  "kernelspec": {
   "display_name": "Python 3",
   "language": "python",
   "name": "python3"
  },
  "language_info": {
   "codemirror_mode": {
    "name": "ipython",
    "version": 3
   },
   "file_extension": ".py",
   "mimetype": "text/x-python",
   "name": "python",
   "nbconvert_exporter": "python",
   "pygments_lexer": "ipython3",
   "version": "3.8.10"
  }
 },
 "nbformat": 4,
 "nbformat_minor": 2
}
